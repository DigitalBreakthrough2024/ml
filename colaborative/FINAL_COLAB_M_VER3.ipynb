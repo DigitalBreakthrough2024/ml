{
  "nbformat": 4,
  "nbformat_minor": 0,
  "metadata": {
    "colab": {
      "provenance": []
    },
    "kernelspec": {
      "name": "python3",
      "display_name": "Python 3"
    },
    "language_info": {
      "name": "python"
    },
    "widgets": {
      "application/vnd.jupyter.widget-state+json": {
        "289967e3d582432784676556eee040c4": {
          "model_module": "@jupyter-widgets/controls",
          "model_name": "HBoxModel",
          "model_module_version": "1.5.0",
          "state": {
            "_dom_classes": [],
            "_model_module": "@jupyter-widgets/controls",
            "_model_module_version": "1.5.0",
            "_model_name": "HBoxModel",
            "_view_count": null,
            "_view_module": "@jupyter-widgets/controls",
            "_view_module_version": "1.5.0",
            "_view_name": "HBoxView",
            "box_style": "",
            "children": [
              "IPY_MODEL_b4034858e1b84a2682635b90a04c0d2c",
              "IPY_MODEL_3f9ac512f59a4b28925bb03e580fb23d",
              "IPY_MODEL_da2bb2e72faa4e2d8cdbe61b8e0557e7"
            ],
            "layout": "IPY_MODEL_ba80b48467504a669c671edc7293af60"
          }
        },
        "b4034858e1b84a2682635b90a04c0d2c": {
          "model_module": "@jupyter-widgets/controls",
          "model_name": "HTMLModel",
          "model_module_version": "1.5.0",
          "state": {
            "_dom_classes": [],
            "_model_module": "@jupyter-widgets/controls",
            "_model_module_version": "1.5.0",
            "_model_name": "HTMLModel",
            "_view_count": null,
            "_view_module": "@jupyter-widgets/controls",
            "_view_module_version": "1.5.0",
            "_view_name": "HTMLView",
            "description": "",
            "description_tooltip": null,
            "layout": "IPY_MODEL_261091bf538d46d78a76579f808b9483",
            "placeholder": "​",
            "style": "IPY_MODEL_901ac200848946a8ba1003c4f2d0582e",
            "value": "100%"
          }
        },
        "3f9ac512f59a4b28925bb03e580fb23d": {
          "model_module": "@jupyter-widgets/controls",
          "model_name": "FloatProgressModel",
          "model_module_version": "1.5.0",
          "state": {
            "_dom_classes": [],
            "_model_module": "@jupyter-widgets/controls",
            "_model_module_version": "1.5.0",
            "_model_name": "FloatProgressModel",
            "_view_count": null,
            "_view_module": "@jupyter-widgets/controls",
            "_view_module_version": "1.5.0",
            "_view_name": "ProgressView",
            "bar_style": "success",
            "description": "",
            "description_tooltip": null,
            "layout": "IPY_MODEL_b23c1c2e1992496fbdf72d2b9e2fc1a3",
            "max": 15,
            "min": 0,
            "orientation": "horizontal",
            "style": "IPY_MODEL_da4fa6b2bab648c5beaf7a7e49655e21",
            "value": 15
          }
        },
        "da2bb2e72faa4e2d8cdbe61b8e0557e7": {
          "model_module": "@jupyter-widgets/controls",
          "model_name": "HTMLModel",
          "model_module_version": "1.5.0",
          "state": {
            "_dom_classes": [],
            "_model_module": "@jupyter-widgets/controls",
            "_model_module_version": "1.5.0",
            "_model_name": "HTMLModel",
            "_view_count": null,
            "_view_module": "@jupyter-widgets/controls",
            "_view_module_version": "1.5.0",
            "_view_name": "HTMLView",
            "description": "",
            "description_tooltip": null,
            "layout": "IPY_MODEL_3da418a39f0f48339ad226eda95a686b",
            "placeholder": "​",
            "style": "IPY_MODEL_dbc09c3694b24ac8a0a62d3fe967c19f",
            "value": " 15/15 [07:32&lt;00:00, 29.92s/it]"
          }
        },
        "ba80b48467504a669c671edc7293af60": {
          "model_module": "@jupyter-widgets/base",
          "model_name": "LayoutModel",
          "model_module_version": "1.2.0",
          "state": {
            "_model_module": "@jupyter-widgets/base",
            "_model_module_version": "1.2.0",
            "_model_name": "LayoutModel",
            "_view_count": null,
            "_view_module": "@jupyter-widgets/base",
            "_view_module_version": "1.2.0",
            "_view_name": "LayoutView",
            "align_content": null,
            "align_items": null,
            "align_self": null,
            "border": null,
            "bottom": null,
            "display": null,
            "flex": null,
            "flex_flow": null,
            "grid_area": null,
            "grid_auto_columns": null,
            "grid_auto_flow": null,
            "grid_auto_rows": null,
            "grid_column": null,
            "grid_gap": null,
            "grid_row": null,
            "grid_template_areas": null,
            "grid_template_columns": null,
            "grid_template_rows": null,
            "height": null,
            "justify_content": null,
            "justify_items": null,
            "left": null,
            "margin": null,
            "max_height": null,
            "max_width": null,
            "min_height": null,
            "min_width": null,
            "object_fit": null,
            "object_position": null,
            "order": null,
            "overflow": null,
            "overflow_x": null,
            "overflow_y": null,
            "padding": null,
            "right": null,
            "top": null,
            "visibility": null,
            "width": null
          }
        },
        "261091bf538d46d78a76579f808b9483": {
          "model_module": "@jupyter-widgets/base",
          "model_name": "LayoutModel",
          "model_module_version": "1.2.0",
          "state": {
            "_model_module": "@jupyter-widgets/base",
            "_model_module_version": "1.2.0",
            "_model_name": "LayoutModel",
            "_view_count": null,
            "_view_module": "@jupyter-widgets/base",
            "_view_module_version": "1.2.0",
            "_view_name": "LayoutView",
            "align_content": null,
            "align_items": null,
            "align_self": null,
            "border": null,
            "bottom": null,
            "display": null,
            "flex": null,
            "flex_flow": null,
            "grid_area": null,
            "grid_auto_columns": null,
            "grid_auto_flow": null,
            "grid_auto_rows": null,
            "grid_column": null,
            "grid_gap": null,
            "grid_row": null,
            "grid_template_areas": null,
            "grid_template_columns": null,
            "grid_template_rows": null,
            "height": null,
            "justify_content": null,
            "justify_items": null,
            "left": null,
            "margin": null,
            "max_height": null,
            "max_width": null,
            "min_height": null,
            "min_width": null,
            "object_fit": null,
            "object_position": null,
            "order": null,
            "overflow": null,
            "overflow_x": null,
            "overflow_y": null,
            "padding": null,
            "right": null,
            "top": null,
            "visibility": null,
            "width": null
          }
        },
        "901ac200848946a8ba1003c4f2d0582e": {
          "model_module": "@jupyter-widgets/controls",
          "model_name": "DescriptionStyleModel",
          "model_module_version": "1.5.0",
          "state": {
            "_model_module": "@jupyter-widgets/controls",
            "_model_module_version": "1.5.0",
            "_model_name": "DescriptionStyleModel",
            "_view_count": null,
            "_view_module": "@jupyter-widgets/base",
            "_view_module_version": "1.2.0",
            "_view_name": "StyleView",
            "description_width": ""
          }
        },
        "b23c1c2e1992496fbdf72d2b9e2fc1a3": {
          "model_module": "@jupyter-widgets/base",
          "model_name": "LayoutModel",
          "model_module_version": "1.2.0",
          "state": {
            "_model_module": "@jupyter-widgets/base",
            "_model_module_version": "1.2.0",
            "_model_name": "LayoutModel",
            "_view_count": null,
            "_view_module": "@jupyter-widgets/base",
            "_view_module_version": "1.2.0",
            "_view_name": "LayoutView",
            "align_content": null,
            "align_items": null,
            "align_self": null,
            "border": null,
            "bottom": null,
            "display": null,
            "flex": null,
            "flex_flow": null,
            "grid_area": null,
            "grid_auto_columns": null,
            "grid_auto_flow": null,
            "grid_auto_rows": null,
            "grid_column": null,
            "grid_gap": null,
            "grid_row": null,
            "grid_template_areas": null,
            "grid_template_columns": null,
            "grid_template_rows": null,
            "height": null,
            "justify_content": null,
            "justify_items": null,
            "left": null,
            "margin": null,
            "max_height": null,
            "max_width": null,
            "min_height": null,
            "min_width": null,
            "object_fit": null,
            "object_position": null,
            "order": null,
            "overflow": null,
            "overflow_x": null,
            "overflow_y": null,
            "padding": null,
            "right": null,
            "top": null,
            "visibility": null,
            "width": null
          }
        },
        "da4fa6b2bab648c5beaf7a7e49655e21": {
          "model_module": "@jupyter-widgets/controls",
          "model_name": "ProgressStyleModel",
          "model_module_version": "1.5.0",
          "state": {
            "_model_module": "@jupyter-widgets/controls",
            "_model_module_version": "1.5.0",
            "_model_name": "ProgressStyleModel",
            "_view_count": null,
            "_view_module": "@jupyter-widgets/base",
            "_view_module_version": "1.2.0",
            "_view_name": "StyleView",
            "bar_color": null,
            "description_width": ""
          }
        },
        "3da418a39f0f48339ad226eda95a686b": {
          "model_module": "@jupyter-widgets/base",
          "model_name": "LayoutModel",
          "model_module_version": "1.2.0",
          "state": {
            "_model_module": "@jupyter-widgets/base",
            "_model_module_version": "1.2.0",
            "_model_name": "LayoutModel",
            "_view_count": null,
            "_view_module": "@jupyter-widgets/base",
            "_view_module_version": "1.2.0",
            "_view_name": "LayoutView",
            "align_content": null,
            "align_items": null,
            "align_self": null,
            "border": null,
            "bottom": null,
            "display": null,
            "flex": null,
            "flex_flow": null,
            "grid_area": null,
            "grid_auto_columns": null,
            "grid_auto_flow": null,
            "grid_auto_rows": null,
            "grid_column": null,
            "grid_gap": null,
            "grid_row": null,
            "grid_template_areas": null,
            "grid_template_columns": null,
            "grid_template_rows": null,
            "height": null,
            "justify_content": null,
            "justify_items": null,
            "left": null,
            "margin": null,
            "max_height": null,
            "max_width": null,
            "min_height": null,
            "min_width": null,
            "object_fit": null,
            "object_position": null,
            "order": null,
            "overflow": null,
            "overflow_x": null,
            "overflow_y": null,
            "padding": null,
            "right": null,
            "top": null,
            "visibility": null,
            "width": null
          }
        },
        "dbc09c3694b24ac8a0a62d3fe967c19f": {
          "model_module": "@jupyter-widgets/controls",
          "model_name": "DescriptionStyleModel",
          "model_module_version": "1.5.0",
          "state": {
            "_model_module": "@jupyter-widgets/controls",
            "_model_module_version": "1.5.0",
            "_model_name": "DescriptionStyleModel",
            "_view_count": null,
            "_view_module": "@jupyter-widgets/base",
            "_view_module_version": "1.2.0",
            "_view_name": "StyleView",
            "description_width": ""
          }
        }
      }
    }
  },
  "cells": [
    {
      "cell_type": "code",
      "source": [
        "!pip install implicit joblib pyarrow"
      ],
      "metadata": {
        "colab": {
          "base_uri": "https://localhost:8080/"
        },
        "id": "Ci__jyTLRaRK",
        "outputId": "d6cd7e3a-bef3-439e-b659-89acf3de3a24"
      },
      "execution_count": 2,
      "outputs": [
        {
          "output_type": "stream",
          "name": "stdout",
          "text": [
            "Collecting implicit\n",
            "  Downloading implicit-0.7.2-cp310-cp310-manylinux2014_x86_64.whl.metadata (6.1 kB)\n",
            "Requirement already satisfied: joblib in /usr/local/lib/python3.10/dist-packages (1.4.2)\n",
            "Requirement already satisfied: pyarrow in /usr/local/lib/python3.10/dist-packages (14.0.2)\n",
            "Requirement already satisfied: numpy>=1.17.0 in /usr/local/lib/python3.10/dist-packages (from implicit) (1.26.4)\n",
            "Requirement already satisfied: scipy>=0.16 in /usr/local/lib/python3.10/dist-packages (from implicit) (1.13.1)\n",
            "Requirement already satisfied: tqdm>=4.27 in /usr/local/lib/python3.10/dist-packages (from implicit) (4.66.5)\n",
            "Requirement already satisfied: threadpoolctl in /usr/local/lib/python3.10/dist-packages (from implicit) (3.5.0)\n",
            "Downloading implicit-0.7.2-cp310-cp310-manylinux2014_x86_64.whl (8.9 MB)\n",
            "\u001b[2K   \u001b[90m━━━━━━━━━━━━━━━━━━━━━━━━━━━━━━━━━━━━━━━━\u001b[0m \u001b[32m8.9/8.9 MB\u001b[0m \u001b[31m27.1 MB/s\u001b[0m eta \u001b[36m0:00:00\u001b[0m\n",
            "\u001b[?25hInstalling collected packages: implicit\n",
            "Successfully installed implicit-0.7.2\n"
          ]
        }
      ]
    },
    {
      "cell_type": "code",
      "source": [
        "import pandas as pd\n",
        "import numpy as np\n",
        "import random\n",
        "import scipy.sparse as sparse\n",
        "from implicit.als import AlternatingLeastSquares\n",
        "import joblib\n",
        "import os\n",
        "import pyarrow.parquet as pq\n",
        "import pyarrow as pa\n",
        "\n",
        "random.seed(228)\n",
        "\n",
        "# Глобальные переменные для модели и индексов\n",
        "model = None\n",
        "user_id_to_index = None\n",
        "video_id_to_index = None"
      ],
      "metadata": {
        "id": "ijtkmIFnRYoT"
      },
      "execution_count": 3,
      "outputs": []
    },
    {
      "cell_type": "code",
      "execution_count": 5,
      "metadata": {
        "id": "3I6ZBAEmQx5j"
      },
      "outputs": [],
      "source": [
        "def load_model_and_indices(model_filepath):\n",
        "    global model, user_id_to_index, video_id_to_index\n",
        "    if os.path.exists(model_filepath):\n",
        "        # Загрузка модели\n",
        "        model = load_model(model_filepath)\n",
        "        # Загрузка словарей индексов\n",
        "        user_id_to_index = joblib.load('user_id_to_index.pkl')\n",
        "        video_id_to_index = joblib.load('video_id_to_index.pkl')\n",
        "        print(f\"Модель и индексы загружены.\")\n",
        "    else:\n",
        "        # Если модели нет, обучаем новую\n",
        "        video_data = pd.read_parquet(video_data_path)\n",
        "        interaction_matrix, user_id_to_index, video_id_to_index = create_interaction_matrix_in_batches(\n",
        "            logs_path, video_data, batch_size\n",
        "        )\n",
        "        model = train_als_model(interaction_matrix)\n",
        "        save_model(model, model_filepath)\n",
        "        # Сохраняем словари индексов\n",
        "        joblib.dump(user_id_to_index, 'user_id_to_index.pkl')\n",
        "        joblib.dump(video_id_to_index, 'video_id_to_index.pkl')\n",
        "        print(f\"Модель обучена и сохранена в: {model_filepath}\")\n",
        "\n",
        "# Функция для загрузки данных пакетами из .parquet файла\n",
        "def load_parquet_in_batches(parquet_path, batch_size):\n",
        "    # Открываем Parquet файл\n",
        "    parquet_file = pq.ParquetFile(parquet_path)\n",
        "    num_row_groups = parquet_file.num_row_groups\n",
        "\n",
        "    for rg in range(num_row_groups):\n",
        "        # Читаем каждую группу строк (row group)\n",
        "        table = parquet_file.read_row_group(rg)\n",
        "        df = table.to_pandas()\n",
        "        # Разбиваем на батчи внутри группы строк\n",
        "        num_batches = len(df) // batch_size + 1\n",
        "        for i in range(num_batches):\n",
        "            batch_df = df[i*batch_size : (i+1)*batch_size]\n",
        "            yield batch_df\n",
        "\n",
        "# Функция для предобработки батча логов\n",
        "def preprocess_logs_batch(logs_batch, video_data, video_id_to_index):\n",
        "    # Объединяем логи с данными о видео по video_id\n",
        "    logs_batch = logs_batch.merge(video_data[['video_id', 'v_duration']], on='video_id', how='left')\n",
        "\n",
        "    # Преобразование watchtime в оценку неявной обратной связи (Implicit Score)\n",
        "    def calculate_implicit_score(row):\n",
        "        if pd.isna(row['v_duration']):\n",
        "            return 0  # Если нет данных о длительности видео, считаем взаимодействие незначимым\n",
        "        if row['v_duration'] > 5 * 60:  # Длительное видео (больше 5 минут)\n",
        "            return 1 if row['watchtime'] > 0.25 * row['v_duration'] else 0\n",
        "        else:  # Короткое видео (меньше 5 минут)\n",
        "            return 1 if row['watchtime'] > 30 else 0\n",
        "\n",
        "    # Применение функции к каждому ряду в DataFrame для вычисления implicit_score\n",
        "    logs_batch['implicit_score'] = logs_batch.apply(calculate_implicit_score, axis=1)\n",
        "\n",
        "    # Фильтрация только тех логов, где есть положительное взаимодействие\n",
        "    logs_batch = logs_batch[logs_batch['implicit_score'] == 1]\n",
        "\n",
        "    # Отображение user_id и video_id в индексы\n",
        "    # Обновление словаря video_id_to_index\n",
        "    for video_id in logs_batch['video_id'].unique():\n",
        "        if video_id not in video_id_to_index:\n",
        "            video_id_to_index[video_id] = len(video_id_to_index)\n",
        "\n",
        "    logs_batch['video_index'] = logs_batch['video_id'].map(video_id_to_index)\n",
        "\n",
        "    return logs_batch, video_id_to_index\n",
        "\n",
        "# Функция для создания матрицы взаимодействий по батчам\n",
        "def create_interaction_matrix_in_batches(parquet_path, video_data, batch_size):\n",
        "    user_id_to_index = {}\n",
        "    video_id_to_index = {}\n",
        "    rows = []\n",
        "    cols = []\n",
        "    data = []\n",
        "\n",
        "    # Используем функцию для загрузки данных пакетами\n",
        "    logs_iterator = load_parquet_in_batches(parquet_path, batch_size)\n",
        "\n",
        "    for logs_batch in logs_iterator:\n",
        "        # Предобработка батча логов\n",
        "        logs_batch, video_id_to_index = preprocess_logs_batch(logs_batch, video_data, video_id_to_index)\n",
        "\n",
        "        # Обновление словаря user_id_to_index\n",
        "        for user_id in logs_batch['user_id'].unique():\n",
        "            if user_id not in user_id_to_index:\n",
        "                user_id_to_index[user_id] = len(user_id_to_index)\n",
        "\n",
        "        logs_batch['user_index'] = logs_batch['user_id'].map(user_id_to_index)\n",
        "\n",
        "        # Добавление данных из батча в списки для создания матрицы\n",
        "        rows.extend(logs_batch['video_index'])\n",
        "        cols.extend(logs_batch['user_index'])\n",
        "        data.extend(logs_batch['implicit_score'])\n",
        "\n",
        "    # Создание разреженной матрицы взаимодействий\n",
        "    interaction_matrix = sparse.coo_matrix(\n",
        "        (data, (rows, cols)),\n",
        "        shape=(len(video_id_to_index), len(user_id_to_index))\n",
        "    )\n",
        "\n",
        "    return interaction_matrix, user_id_to_index, video_id_to_index\n",
        "\n",
        "# Остальные функции остаются без изменений\n",
        "\n",
        "# Функция для обучения модели ALS\n",
        "def train_als_model(interaction_matrix):\n",
        "    model = AlternatingLeastSquares(\n",
        "        factors=50,\n",
        "        regularization=0.01,\n",
        "        iterations=15,\n",
        "        use_gpu=False  # Установите True, если у вас есть совместимый GPU\n",
        "    )\n",
        "\n",
        "    # Обучение модели (библиотека implicit ожидает матрицу item-user)\n",
        "    model.fit(interaction_matrix.T)\n",
        "\n",
        "    return model\n",
        "\n",
        "# Функция для сохранения обученной модели\n",
        "def save_model(model, filepath):\n",
        "    joblib.dump(model, filepath)\n",
        "    print(f\"Модель сохранена по пути: {filepath}\")\n",
        "\n",
        "# Функция для загрузки обученной модели\n",
        "def load_model(filepath):\n",
        "    model = joblib.load(filepath)\n",
        "    print(f\"Модель загружена из: {filepath}\")\n",
        "    return model\n",
        "\n",
        "# Функция для генерации рекомендаций\n",
        "def generate_recommendations(model, video_id_to_index, current_user_index, watched_videos):\n",
        "    # Получение факторов пользователя для текущего пользователя\n",
        "    user_factors = model.user_factors[current_user_index]\n",
        "\n",
        "    # Получение индексов просмотренных видео\n",
        "    watched_videos_indices = [video_id_to_index[video] for video in watched_videos if video in video_id_to_index]\n",
        "\n",
        "    # Исключение элементов, с которыми пользователь уже взаимодействовал\n",
        "    known_items = set(watched_videos_indices)\n",
        "\n",
        "    # Вычисление оценок для всех элементов (видео)\n",
        "    scores = model.item_factors.dot(user_factors)\n",
        "\n",
        "    # Исключение элементов, с которыми пользователь уже взаимодействовал\n",
        "    video_scores = [(score, idx) for idx, score in enumerate(scores) if idx not in known_items]\n",
        "\n",
        "    # Сортировка оценок видео по убыванию\n",
        "    video_scores.sort(reverse=True)\n",
        "\n",
        "    # Получение топ-10 индексов видео\n",
        "    top_10_videos = [idx for score, idx in video_scores[:10]]\n",
        "\n",
        "    # Отображение индексов обратно на video_id\n",
        "    index_to_video_id = {idx: video_id for video_id, idx in video_id_to_index.items()}\n",
        "    recommended_video_ids = [index_to_video_id[idx] for idx in top_10_videos]\n",
        "\n",
        "    return recommended_video_ids\n",
        "\n",
        "def run_recommendation_system(initial_ratings, watched_videos, current_user_id):\n",
        "    global model, user_id_to_index, video_id_to_index\n",
        "\n",
        "    # Проверяем, есть ли текущий пользователь в индексе\n",
        "    if current_user_id in user_id_to_index:\n",
        "        current_user_index = user_id_to_index[current_user_id]\n",
        "    else:\n",
        "        # Добавляем текущего пользователя в индекс\n",
        "        current_user_index = len(user_id_to_index)\n",
        "        user_id_to_index[current_user_id] = current_user_index\n",
        "        # Обновление модели с новым пользователем\n",
        "        # Добавляем нового пользователя в матрицу факторов пользователей\n",
        "        model.user_factors = np.vstack([model.user_factors, np.random.normal(size=(model.user_factors.shape[1],))])\n",
        "        # Не забываем сохранить обновленный индекс пользователей\n",
        "        joblib.dump(user_id_to_index, 'user_id_to_index.pkl')\n",
        "\n",
        "    # Обновление video_id_to_index для новых видео\n",
        "    for video_id in (list(initial_ratings.keys()) + list(watched_videos)):\n",
        "        if video_id not in video_id_to_index:\n",
        "            video_id_to_index[video_id] = len(video_id_to_index)\n",
        "            # Необходимо расширить матрицу факторов элементов\n",
        "            model.item_factors = np.vstack([model.item_factors, np.random.normal(size=(model.item_factors.shape[1],))])\n",
        "            # Сохраняем обновленный индекс видео\n",
        "            joblib.dump(video_id_to_index, 'video_id_to_index.pkl')\n",
        "\n",
        "    # Создаем списки для взаимодействий текущего пользователя\n",
        "    current_user_video_indices = []\n",
        "    current_user_scores = []\n",
        "\n",
        "    def map_initial_rating(rating):\n",
        "        if rating == 'like':\n",
        "            return 2  # Более высокая оценка для лайков\n",
        "        elif rating == 'dislike':\n",
        "            return -1  # Отрицательная оценка для дизлайков\n",
        "        else:\n",
        "            return 0  # Нейтральное взаимодействие\n",
        "\n",
        "    for video_id, rating in initial_ratings.items():\n",
        "        video_index = video_id_to_index[video_id]\n",
        "        score = map_initial_rating(rating)\n",
        "        if score != 0:\n",
        "            current_user_video_indices.append(video_index)\n",
        "            current_user_scores.append(score)\n",
        "\n",
        "    # Создание разреженного вектора для текущего пользователя\n",
        "    current_user_interaction = sparse.coo_matrix(\n",
        "        (current_user_scores, (current_user_video_indices, [0] * len(current_user_scores))),\n",
        "        shape=(len(video_id_to_index), 1)\n",
        "    )\n",
        "\n",
        "    # Генерируем рекомендации\n",
        "    recommendations = generate_recommendations(model, video_id_to_index, current_user_index, watched_videos)\n",
        "\n",
        "    return recommendations"
      ]
    },
    {
      "cell_type": "code",
      "source": [
        "# Ввод данных\n",
        "logs_path = '/content/drive/MyDrive/logs.parquet'\n",
        "video_data_path = '/content/drive/MyDrive/video_stat.parquet'\n",
        "model_filepath = 'als_model.pkl'\n",
        "batch_size = 100000\n",
        "\n",
        "# Загрузка модели и индексов при старте\n",
        "load_model_and_indices(model_filepath)"
      ],
      "metadata": {
        "colab": {
          "base_uri": "https://localhost:8080/",
          "height": 173,
          "referenced_widgets": [
            "289967e3d582432784676556eee040c4",
            "b4034858e1b84a2682635b90a04c0d2c",
            "3f9ac512f59a4b28925bb03e580fb23d",
            "da2bb2e72faa4e2d8cdbe61b8e0557e7",
            "ba80b48467504a669c671edc7293af60",
            "261091bf538d46d78a76579f808b9483",
            "901ac200848946a8ba1003c4f2d0582e",
            "b23c1c2e1992496fbdf72d2b9e2fc1a3",
            "da4fa6b2bab648c5beaf7a7e49655e21",
            "3da418a39f0f48339ad226eda95a686b",
            "dbc09c3694b24ac8a0a62d3fe967c19f"
          ]
        },
        "id": "b31CqtN3RVa1",
        "outputId": "e25fd49f-6752-4b8c-93f8-a637826bfb58"
      },
      "execution_count": 6,
      "outputs": [
        {
          "output_type": "stream",
          "name": "stderr",
          "text": [
            "/usr/local/lib/python3.10/dist-packages/implicit/cpu/als.py:95: RuntimeWarning: OpenBLAS is configured to use 2 threads. It is highly recommended to disable its internal threadpool by setting the environment variable 'OPENBLAS_NUM_THREADS=1' or by calling 'threadpoolctl.threadpool_limits(1, \"blas\")'. Having OpenBLAS use a threadpool can lead to severe performance issues here.\n",
            "  check_blas_config()\n",
            "/usr/local/lib/python3.10/dist-packages/implicit/utils.py:164: ParameterWarning: Method expects CSR input, and was passed coo_matrix instead. Converting to CSR took 1.3625147342681885 seconds\n",
            "  warnings.warn(\n"
          ]
        },
        {
          "output_type": "display_data",
          "data": {
            "text/plain": [
              "  0%|          | 0/15 [00:00<?, ?it/s]"
            ],
            "application/vnd.jupyter.widget-view+json": {
              "version_major": 2,
              "version_minor": 0,
              "model_id": "289967e3d582432784676556eee040c4"
            }
          },
          "metadata": {}
        },
        {
          "output_type": "stream",
          "name": "stdout",
          "text": [
            "Модель сохранена по пути: als_model.pkl\n",
            "Модель обучена и сохранена в: als_model.pkl\n"
          ]
        }
      ]
    },
    {
      "cell_type": "code",
      "source": [
        "# Вызов системы для получения рекомендаций FIRST TIME\n",
        "initial_ratings = {\n",
        "    \"2f563d09-45ef-4e27-8da0-daa74235a2e7\": \"like\",\n",
        "    \"1a3f527c-44b2-4f7e-9641-26f078edbf2e\": \"dislike\",\n",
        "    \"973f24c0-15b2-434f-8740-4e2726f79c30\": \"neutral\",\n",
        "    \"6cf5f321-77ca-4538-8b45-c2afc6c2f0d2\": \"like\",\n",
        "    \"cf8913a2-d241-4204-91d5-f4fe02228c5b\": \"dislike\",\n",
        "    \"3bf4bcb0-6372-4fd3-b9d9-0e7f79385259\": \"neutral\",\n",
        "    \"0c9eb1fd-50f8-4a38-8030-7d9a939f2481\": \"like\",\n",
        "    \"5cb3968d-f4ae-4c1a-a9eb-094a2e6fb3f2\": \"like\",\n",
        "    \"cd0f11f2-0b8e-40c2-af27-373adc809a65\": \"neutral\",\n",
        "    \"df123218-09fa-4ff4-9926-9167f8f61291\": \"like\"\n",
        "}\n",
        "watched_videos = [\"ed3f4c89-b1b0-46f5-bcbf-2d8e2832f663\", \"d818f9ef-1bdd-4e5f-8188-eb13dc5cbf6a\"] + list(initial_ratings.keys())\n",
        "current_user_id = \"USER_HASH\" # constant\n",
        "model_filepath = \"als_model.pkl\" # learned model\n",
        "recommendations = run_recommendation_system(\n",
        "    initial_ratings, watched_videos, current_user_id\n",
        ")\n",
        "print(\"Рекомендованные видеo:\", recommendations)"
      ],
      "metadata": {
        "colab": {
          "base_uri": "https://localhost:8080/"
        },
        "id": "2T5XqMemcRAR",
        "outputId": "ea3da986-2f66-4952-efdb-9046697aa364"
      },
      "execution_count": 13,
      "outputs": [
        {
          "output_type": "stream",
          "name": "stdout",
          "text": [
            "Рекомендованные видеo: ['568bf1a6-f1f1-4df2-8924-15dc4aba3af0', '56e0c337-a8b6-40c3-adc0-8e95b0b64e94', 'dad38bc3-de99-44f6-9675-2444e51493b2', '879cd972-e686-4894-8abd-de37a1aa33d2', 'ca775f67-64f5-409a-98f5-bd163f020997', 'd7fe6920-4ead-42ae-bbe3-e22deca936b6', '265cb8a0-6c8b-4256-a55d-e102c239886e', '9ed49d02-a300-4000-a086-352a170b0238', '47d47b93-1f8e-4de8-b441-1c7cc9e5c40d', '58083ffb-2ed8-47ef-a57d-86be82f4555b']\n"
          ]
        }
      ]
    },
    {
      "cell_type": "code",
      "source": [
        "import random\n",
        "ratings = {'like':0, 'dislike':0, 'neutral':0}\n",
        "\n",
        "# циклы оценки подборки\n",
        "for podborka in range(15):\n",
        "    # сюда поступает оценка за новую подборку\n",
        "    initial_ratings = dict(zip(recommendations, random.choices(list(ratings.keys()), weights=[4, 1, 2], k=10)))\n",
        "    watched_videos = watched_videos + list(initial_ratings.keys())\n",
        "    for key in list(ratings.keys()):\n",
        "        ratings[key] += list(initial_ratings.values()).count(key)\n",
        "\n",
        "    # выдача новой подборки\n",
        "    recommendations = run_recommendation_system(initial_ratings, watched_videos, current_user_id)"
      ],
      "metadata": {
        "id": "4iEOw6mzwwC-"
      },
      "execution_count": 24,
      "outputs": []
    },
    {
      "cell_type": "code",
      "source": [
        "print(ratings)"
      ],
      "metadata": {
        "colab": {
          "base_uri": "https://localhost:8080/"
        },
        "id": "Tw6Z_q-V15pZ",
        "outputId": "6570836d-3824-4ede-a956-71af6578a779"
      },
      "execution_count": 32,
      "outputs": [
        {
          "output_type": "execute_result",
          "data": {
            "text/plain": [
              "{'like': 110, 'dislike': 26, 'neutral': 64}"
            ]
          },
          "metadata": {},
          "execution_count": 32
        }
      ]
    },
    {
      "cell_type": "code",
      "source": [
        "def presicion_colab(ratings):\n",
        "    return ratings['like']/(ratings['like']+ratings['dislike']+(ratings['neutral']))"
      ],
      "metadata": {
        "id": "bKq02eMm3acV"
      },
      "execution_count": 33,
      "outputs": []
    },
    {
      "cell_type": "code",
      "source": [
        "print(presicion_colab(ratings))"
      ],
      "metadata": {
        "colab": {
          "base_uri": "https://localhost:8080/"
        },
        "id": "1HhLKHo78XjP",
        "outputId": "7094b42f-4ef5-4c66-9770-5ddc769cb58e"
      },
      "execution_count": 34,
      "outputs": [
        {
          "output_type": "execute_result",
          "data": {
            "text/plain": [
              "0.55"
            ]
          },
          "metadata": {},
          "execution_count": 34
        }
      ]
    }
  ]
}